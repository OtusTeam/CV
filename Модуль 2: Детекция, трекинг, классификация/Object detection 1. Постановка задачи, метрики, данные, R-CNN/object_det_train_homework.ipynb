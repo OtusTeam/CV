{
  "nbformat": 4,
  "nbformat_minor": 0,
  "metadata": {
    "kernelspec": {
      "display_name": "Python 3.8",
      "language": "python",
      "name": "python3"
    },
    "language_info": {
      "codemirror_mode": {
        "name": "ipython",
        "version": 3
      },
      "file_extension": ".py",
      "mimetype": "text/x-python",
      "name": "python",
      "nbconvert_exporter": "python",
      "pygments_lexer": "ipython3",
      "version": "3.8.12"
    },
    "colab": {
      "name": "object_det_train_homework.ipynb",
      "provenance": []
    }
  },
  "cells": [
    {
      "cell_type": "markdown",
      "metadata": {
        "id": "rW6CHPtifC94"
      },
      "source": [
        "# Домашнее задание: Object Detection (train)\n",
        "\n",
        "Обучить object detection модель из [Detectron2](https://github.com/facebookresearch/detectron2) детектировать игроков в баскетбольном матче. Число классов: 2 (две команды). \n",
        "\n",
        "В качестве модели следует взять одну из [предобученных моделей](https://github.com/facebookresearch/detectron2/blob/main/MODEL_ZOO.md) (Faster R-CNN или RetinaNet).\n",
        "\n",
        "Пример того, как обучать Detectron2 на своем датасете можно найти [здесь](https://colab.research.google.com/drive/1Xdm2KrBauT0lEyKFEiLie7nhzXajgEkH?usp=sharing).\n",
        "\n",
        "### Датасет:\n",
        "Скачайте датасет [otus_basketball_dataset](https://disk.yandex.ru/d/thdvaAKQS3ASXA) и распакуйте. Внутри находятся папки `images_train` (400 изображений) и `images_test` (100 изображений), а также файлы с аннотациями к ним: `anno_train.json` и `anno_test.json`. Файлы с аннотациями имеет следующую структуру:\n",
        "```\n",
        "image_name: {\n",
        "     player_id: {\n",
        "             'box': [x,y,w,h],\n",
        "             'team': int\n",
        "     }\n",
        "     .....\n",
        "}\n",
        "....\n",
        "```\n",
        "Здесь `image_name` - имя изображения в соответствующей папке,<br>\n",
        "`player_id` - id игрока в текущем изображении (в данном задании id не важен),<br>\n",
        "`'box': [x,y,w,h]` - bounding box соответствующего игрока (координаты нормализованы от 0 до 1, поэтому их нужно домножить на размеры изображения, чтобы перевести их в целые координаты фрейма),<br>\n",
        "`'team': int` - id команды к которой принадлежит игрок  в данном кадре (может принимать значения 0 или 1).\n",
        "\n",
        "\n",
        "### Задачи:\n",
        "1) Адаптировать датасет к внутреннему формату датасетов Detectron2 и обучить модель.\n",
        "\n",
        "2) Посчитать метрику COCO mAP (можно использовать любую готовую библиотеку).\n",
        "\n",
        "3) [Опционально] Реализовать вручную вычисление метрики IoU для предсказанных боксов и ground truth.\n",
        "\n",
        "4) [Опционально] Реализовать вручную вычисление Precision и Recall и построить Precision-Recall кривую.\n",
        "\n",
        "### Баллы:\n",
        "+3 балл за пункты 1 и 2<br>\n",
        "+1 балл за выполнение пункта 3<br>\n",
        "+1 балл за выполнение пункта 4<br>"
      ]
    },
    {
      "cell_type": "code",
      "metadata": {
        "id": "YhQst184fC98"
      },
      "source": [
        ""
      ],
      "execution_count": null,
      "outputs": []
    }
  ]
}