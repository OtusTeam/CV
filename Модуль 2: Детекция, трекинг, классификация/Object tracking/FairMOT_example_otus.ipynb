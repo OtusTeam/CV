{
 "cells": [
  {
   "cell_type": "markdown",
   "id": "900f4fae",
   "metadata": {},
   "source": [
    "## Как установить [FairMOT](https://github.com/ifzhang/FairMOT) с использованием pipenv и jupyter notebook:\n",
    "\n",
    "1) Клонируем FairMOT репозиторий:\n",
    "```bash\n",
    "cd ~/builds\n",
    "git clone https://github.com/ifzhang/FairMOT.git\n",
    "cd FairMOT\n",
    "```\n",
    "\n",
    "2) Создаем и активируем виртуальное окружение:\n",
    "```bash\n",
    "pipenv install ipykernel\n",
    "pipenv shell\n",
    "```\n",
    "\n",
    "3) Устанавливаем необходимые библиотеки для FairMOT под pipenv:\n",
    "```bash\n",
    "pip install cython\n",
    "pip install -r requirements.txt\n",
    "```\n",
    "\n",
    "4) Устанавливаем DCNv2:\n",
    "```bash\n",
    "git clone -b pytorch_1.7 https://github.com/ifzhang/DCNv2.git\n",
    "cd DCNv2\n",
    "./make.sh\n",
    "cd ..\n",
    "```\n",
    "\n",
    "5) Устанавливаем ipykernel для запуска jupyter notebook с pipenv, подробнее [здесь](https://stackoverflow.com/questions/47295871/is-there-a-way-to-use-pipenv-with-jupyter-notebook): \n",
    "```bash\n",
    "python -m ipykernel install --user --name=FairMOT\n",
    "```\n",
    "\n",
    "6) Запускаем notebook и выбираем FairMOT в качестве интерпретатора: \n",
    "```bash\n",
    "jupyter notebook\n",
    "```"
   ]
  },
  {
   "cell_type": "code",
   "execution_count": 25,
   "id": "2a730e0d",
   "metadata": {},
   "outputs": [
    {
     "data": {
      "text/plain": [
       "'1.7.0'"
      ]
     },
     "execution_count": 25,
     "metadata": {},
     "output_type": "execute_result"
    }
   ],
   "source": [
    "# Версия torch должна быть 1.7.0 и cuda 10:\n",
    "import torch\n",
    "torch.__version__"
   ]
  },
  {
   "cell_type": "code",
   "execution_count": 13,
   "id": "07a203ef",
   "metadata": {
    "scrolled": true
   },
   "outputs": [
    {
     "name": "stdout",
     "output_type": "stream",
     "text": [
      "Fix size testing.\n",
      "training chunk_sizes: [6, 6]\n",
      "The output will be saved to  /home/darkalert/builds/FairMOT/src/lib/../../exp/mot/default\n",
      "heads {'hm': 1, 'wh': 4, 'id': 128, 'reg': 2}\n",
      "2021-10-18 18:35:15 [INFO]: Starting tracking...\n",
      "Lenth of the video: 1500 frames\n",
      "Creating model...\n",
      "loaded ../models/fairmot_dla34.pth, epoch 30\n",
      "2021-10-18 18:35:17 [INFO]: Processing frame 0 (100000.00 fps)\n",
      "2021-10-18 18:35:21 [INFO]: Processing frame 20 (12.67 fps)\n",
      "2021-10-18 18:35:24 [INFO]: Processing frame 40 (12.99 fps)\n",
      "2021-10-18 18:35:26 [INFO]: Processing frame 60 (13.20 fps)\n",
      "2021-10-18 18:35:29 [INFO]: Processing frame 80 (13.47 fps)\n",
      "2021-10-18 18:35:32 [INFO]: Processing frame 100 (13.62 fps)\n",
      "2021-10-18 18:35:35 [INFO]: Processing frame 120 (13.65 fps)\n",
      "2021-10-18 18:35:38 [INFO]: Processing frame 140 (13.65 fps)\n",
      "2021-10-18 18:35:41 [INFO]: Processing frame 160 (13.68 fps)\n",
      "2021-10-18 18:35:44 [INFO]: Processing frame 180 (13.71 fps)\n",
      "2021-10-18 18:35:47 [INFO]: Processing frame 200 (13.68 fps)\n",
      "2021-10-18 18:35:50 [INFO]: Processing frame 220 (13.59 fps)\n",
      "2021-10-18 18:35:53 [INFO]: Processing frame 240 (13.56 fps)\n",
      "2021-10-18 18:35:56 [INFO]: Processing frame 260 (13.59 fps)\n",
      "2021-10-18 18:35:59 [INFO]: Processing frame 280 (13.65 fps)\n",
      "2021-10-18 18:36:02 [INFO]: Processing frame 300 (13.68 fps)\n",
      "2021-10-18 18:36:05 [INFO]: Processing frame 320 (13.69 fps)\n",
      "2021-10-18 18:36:08 [INFO]: Processing frame 340 (13.69 fps)\n",
      "2021-10-18 18:36:11 [INFO]: Processing frame 360 (13.69 fps)\n",
      "2021-10-18 18:36:14 [INFO]: Processing frame 380 (13.71 fps)\n",
      "2021-10-18 18:36:17 [INFO]: Processing frame 400 (13.73 fps)\n",
      "2021-10-18 18:36:20 [INFO]: Processing frame 420 (13.69 fps)\n",
      "2021-10-18 18:36:23 [INFO]: Processing frame 440 (13.67 fps)\n",
      "2021-10-18 18:36:26 [INFO]: Processing frame 460 (13.66 fps)\n",
      "2021-10-18 18:36:29 [INFO]: Processing frame 480 (13.65 fps)\n",
      "2021-10-18 18:36:32 [INFO]: Processing frame 500 (13.63 fps)\n",
      "2021-10-18 18:36:35 [INFO]: Processing frame 520 (13.61 fps)\n",
      "2021-10-18 18:36:38 [INFO]: Processing frame 540 (13.58 fps)\n",
      "2021-10-18 18:36:41 [INFO]: Processing frame 560 (13.57 fps)\n",
      "2021-10-18 18:36:44 [INFO]: Processing frame 580 (13.55 fps)\n",
      "2021-10-18 18:36:47 [INFO]: Processing frame 600 (13.51 fps)\n",
      "2021-10-18 18:36:50 [INFO]: Processing frame 620 (13.49 fps)\n",
      "2021-10-18 18:36:53 [INFO]: Processing frame 640 (13.49 fps)\n",
      "2021-10-18 18:36:56 [INFO]: Processing frame 660 (13.47 fps)\n",
      "2021-10-18 18:36:59 [INFO]: Processing frame 680 (13.45 fps)\n",
      "2021-10-18 18:37:02 [INFO]: Processing frame 700 (13.38 fps)\n",
      "2021-10-18 18:37:06 [INFO]: Processing frame 720 (13.32 fps)\n",
      "2021-10-18 18:37:09 [INFO]: Processing frame 740 (13.27 fps)\n",
      "2021-10-18 18:37:12 [INFO]: Processing frame 760 (13.22 fps)\n",
      "2021-10-18 18:37:15 [INFO]: Processing frame 780 (13.17 fps)\n",
      "2021-10-18 18:37:18 [INFO]: Processing frame 800 (13.13 fps)\n",
      "2021-10-18 18:37:22 [INFO]: Processing frame 820 (13.09 fps)\n",
      "2021-10-18 18:37:25 [INFO]: Processing frame 840 (13.06 fps)\n",
      "2021-10-18 18:37:28 [INFO]: Processing frame 860 (13.03 fps)\n",
      "2021-10-18 18:37:31 [INFO]: Processing frame 880 (13.02 fps)\n",
      "2021-10-18 18:37:34 [INFO]: Processing frame 900 (13.00 fps)\n",
      "2021-10-18 18:37:38 [INFO]: Processing frame 920 (12.96 fps)\n",
      "2021-10-18 18:37:41 [INFO]: Processing frame 940 (12.93 fps)\n",
      "2021-10-18 18:37:44 [INFO]: Processing frame 960 (12.92 fps)\n",
      "2021-10-18 18:37:47 [INFO]: Processing frame 980 (12.92 fps)\n",
      "2021-10-18 18:37:50 [INFO]: Processing frame 1000 (12.92 fps)\n",
      "2021-10-18 18:37:53 [INFO]: Processing frame 1020 (12.92 fps)\n",
      "2021-10-18 18:37:56 [INFO]: Processing frame 1040 (12.91 fps)\n",
      "2021-10-18 18:37:59 [INFO]: Processing frame 1060 (12.91 fps)\n",
      "2021-10-18 18:38:02 [INFO]: Processing frame 1080 (12.92 fps)\n",
      "2021-10-18 18:38:05 [INFO]: Processing frame 1100 (12.93 fps)\n",
      "2021-10-18 18:38:08 [INFO]: Processing frame 1120 (12.91 fps)\n",
      "2021-10-18 18:38:11 [INFO]: Processing frame 1140 (12.90 fps)\n",
      "2021-10-18 18:38:14 [INFO]: Processing frame 1160 (12.91 fps)\n",
      "2021-10-18 18:38:18 [INFO]: Processing frame 1180 (12.91 fps)\n",
      "2021-10-18 18:38:21 [INFO]: Processing frame 1200 (12.91 fps)\n",
      "2021-10-18 18:38:24 [INFO]: Processing frame 1220 (12.91 fps)\n",
      "2021-10-18 18:38:27 [INFO]: Processing frame 1240 (12.91 fps)\n",
      "2021-10-18 18:38:30 [INFO]: Processing frame 1260 (12.91 fps)\n",
      "2021-10-18 18:38:33 [INFO]: Processing frame 1280 (12.91 fps)\n",
      "2021-10-18 18:38:36 [INFO]: Processing frame 1300 (12.92 fps)\n",
      "2021-10-18 18:38:39 [INFO]: Processing frame 1320 (12.92 fps)\n",
      "2021-10-18 18:38:42 [INFO]: Processing frame 1340 (12.93 fps)\n",
      "2021-10-18 18:38:45 [INFO]: Processing frame 1360 (12.93 fps)\n",
      "2021-10-18 18:38:48 [INFO]: Processing frame 1380 (12.94 fps)\n",
      "2021-10-18 18:38:51 [INFO]: Processing frame 1400 (12.94 fps)\n",
      "2021-10-18 18:38:54 [INFO]: Processing frame 1420 (12.95 fps)\n",
      "2021-10-18 18:38:57 [INFO]: Processing frame 1440 (12.94 fps)\n",
      "2021-10-18 18:39:00 [INFO]: Processing frame 1460 (12.95 fps)\n",
      "2021-10-18 18:39:03 [INFO]: Processing frame 1480 (12.94 fps)\n",
      "2021-10-18 18:39:07 [INFO]: save results to ../demos/results.txt\n",
      "ffmpeg version 4.3.2-0york0~18.04 Copyright (c) 2000-2021 the FFmpeg developers\n",
      "  built with gcc 7 (Ubuntu 7.5.0-3ubuntu1~18.04)\n",
      "  configuration: --prefix=/usr --extra-version='0york0~18.04' --toolchain=hardened --libdir=/usr/lib/x86_64-linux-gnu --incdir=/usr/include/x86_64-linux-gnu --arch=amd64 --enable-gpl --disable-stripping --enable-avresample --disable-filter=resample --enable-gnutls --enable-ladspa --enable-libaom --enable-libass --enable-libbluray --enable-libbs2b --enable-libcaca --enable-libcdio --enable-libcodec2 --enable-libflite --enable-libfontconfig --enable-libfreetype --enable-libfribidi --enable-libgme --enable-libgsm --enable-libjack --enable-libmp3lame --enable-libmysofa --enable-libopenjpeg --enable-libopenmpt --enable-libopus --enable-libpulse --enable-librabbitmq --enable-librsvg --enable-librubberband --enable-libshine --enable-libsnappy --enable-libsoxr --enable-libspeex --enable-libsrt --enable-libssh --enable-libtheora --enable-libtwolame --enable-libvidstab --enable-libvorbis --enable-libvpx --enable-libwavpack --enable-libwebp --enable-libx265 --enable-libxml2 --enable-libxvid --enable-libzmq --enable-libzvbi --enable-lv2 --enable-omx --enable-openal --enable-opencl --enable-opengl --enable-sdl2 --enable-libzimg --enable-pocketsphinx --enable-libdc1394 --enable-libdrm --enable-libiec61883 --enable-chromaprint --enable-frei0r --enable-libx264 --enable-shared\n",
      "  libavutil      56. 51.100 / 56. 51.100\n",
      "  libavcodec     58. 91.100 / 58. 91.100\n",
      "  libavformat    58. 45.100 / 58. 45.100\n",
      "  libavdevice    58. 10.100 / 58. 10.100\n",
      "  libavfilter     7. 85.100 /  7. 85.100\n",
      "  libavresample   4.  0.  0 /  4.  0.  0\n",
      "  libswscale      5.  7.100 /  5.  7.100\n",
      "  libswresample   3.  7.100 /  3.  7.100\n",
      "  libpostproc    55.  7.100 / 55.  7.100\n",
      "Input #0, image2, from '../demos/frame/%05d.jpg':\n",
      "  Duration: 00:01:00.00, start: 0.000000, bitrate: N/A\n",
      "    Stream #0:0: Video: mjpeg (Baseline), yuvj420p(pc, bt470bg/unknown/unknown), 1920x1080 [SAR 1:1 DAR 16:9], 25 fps, 25 tbr, 25 tbn, 25 tbc\n",
      "\u001b[0;33mPlease use -b:a or -b:v, -b is ambiguous\n",
      "\u001b[0mStream mapping:\n",
      "  Stream #0:0 -> #0:0 (mjpeg (native) -> mpeg4 (native))\n",
      "Press [q] to stop, [?] for help\n",
      "\u001b[1;34m[swscaler @ 0x559e2a16af00] \u001b[0m\u001b[0;33mdeprecated pixel format used, make sure you did set range correctly\n",
      "\u001b[0mOutput #0, mp4, to '../demos/MOT16-03.mp4':\n",
      "  Metadata:\n",
      "    encoder         : Lavf58.45.100\n",
      "    Stream #0:0: Video: mpeg4 (mp4v / 0x7634706D), yuv420p, 1920x1080 [SAR 1:1 DAR 16:9], q=2-31, 5000 kb/s, 25 fps, 12800 tbn, 25 tbc\n",
      "    Metadata:\n",
      "      encoder         : Lavc58.91.100 mpeg4\n",
      "    Side data:\n",
      "      cpb: bitrate max/min/avg: 0/0/5000000 buffer size: 0 vbv_delay: N/A\n",
      "frame= 1500 fps= 61 q=9.2 Lsize=   36719kB time=00:00:59.96 bitrate=5016.6kbits/s speed=2.42x    \n",
      "video:36711kB audio:0kB subtitle:0kB other streams:0kB global headers:0kB muxing overhead: 0.021018%\n"
     ]
    }
   ],
   "source": [
    "!cd src && python demo.py mot --load_model ../models/fairmot_dla34.pth --conf_thres 0.4"
   ]
  },
  {
   "cell_type": "code",
   "execution_count": 24,
   "id": "0ac530f1",
   "metadata": {},
   "outputs": [
    {
     "data": {
      "text/html": [
       "<video controls  >\n",
       " <source src=\"data:None;base64,demo/MOT16-03.mp4\" type=\"None\">\n",
       " Your browser does not support the video tag.\n",
       " </video>"
      ],
      "text/plain": [
       "<IPython.core.display.Video object>"
      ]
     },
     "execution_count": 24,
     "metadata": {},
     "output_type": "execute_result"
    }
   ],
   "source": [
    "from IPython.display import Video\n",
    "Video(\"demo/MOT16-03.mp4\", embed=True)"
   ]
  },
  {
   "cell_type": "code",
   "execution_count": null,
   "id": "f5000026",
   "metadata": {},
   "outputs": [],
   "source": []
  }
 ],
 "metadata": {
  "kernelspec": {
   "display_name": "FairMOT",
   "language": "python",
   "name": "fairmot"
  },
  "language_info": {
   "codemirror_mode": {
    "name": "ipython",
    "version": 3
   },
   "file_extension": ".py",
   "mimetype": "text/x-python",
   "name": "python",
   "nbconvert_exporter": "python",
   "pygments_lexer": "ipython3",
   "version": "3.8.12"
  }
 },
 "nbformat": 4,
 "nbformat_minor": 5
}
