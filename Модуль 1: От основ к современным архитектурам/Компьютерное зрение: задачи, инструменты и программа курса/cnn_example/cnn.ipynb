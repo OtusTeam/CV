{
 "cells": [
  {
   "cell_type": "code",
   "execution_count": 1,
   "id": "0e2c42e9",
   "metadata": {},
   "outputs": [
    {
     "data": {
      "text/plain": [
       "'1.8.1+cu102'"
      ]
     },
     "execution_count": 1,
     "metadata": {},
     "output_type": "execute_result"
    }
   ],
   "source": [
    "import numpy as np\n",
    "import torch\n",
    "torch.__version__"
   ]
  },
  {
   "cell_type": "markdown",
   "id": "fbd793e5",
   "metadata": {},
   "source": [
    "## 1. Создаем искусственный нейрон\n",
    "Реализуем математическую модель искусственного нейрона на основе формулы:\n",
    "<img src=\"images/neuron_formula.png\">"
   ]
  },
  {
   "cell_type": "code",
   "execution_count": 2,
   "id": "0d80b1fc",
   "metadata": {},
   "outputs": [],
   "source": [
    "# Input size:\n",
    "n = 10\n",
    "\n",
    "# Inputs:\n",
    "x = torch.empty((n), dtype=torch.float32)\n",
    "\n",
    "# Weights:\n",
    "w = torch.empty(x.shape, dtype=torch.float32)\n",
    "\n",
    "# Bais:\n",
    "b = torch.ones(x.shape, dtype=torch.float32)\n",
    "\n",
    "# Get output:\n",
    "y = torch.sum(x*w + b)\n",
    "\n",
    "# Add nonlinearity:\n",
    "y = torch.sign(y)"
   ]
  },
  {
   "cell_type": "markdown",
   "id": "377d7337",
   "metadata": {},
   "source": [
    "### 1.1 Инициализируем тензоры случайными значениями, меняем функцию активации:"
   ]
  },
  {
   "cell_type": "code",
   "execution_count": 76,
   "id": "3d5b2819",
   "metadata": {},
   "outputs": [
    {
     "data": {
      "text/plain": [
       "tensor(1.5585)"
      ]
     },
     "execution_count": 76,
     "metadata": {},
     "output_type": "execute_result"
    }
   ],
   "source": [
    "# Input size:\n",
    "n = 10\n",
    "\n",
    "# Inputs:\n",
    "x = torch.rand((n), dtype=torch.float32)\n",
    "x = x * 2.0 - 1.0\n",
    "\n",
    "# Weights:\n",
    "w = torch.rand(x.shape, dtype=torch.float32)\n",
    "w = w * 2.0 - 1.0\n",
    "\n",
    "# Bais:\n",
    "b = torch.ones(x.shape, dtype=torch.float32)\n",
    "b *= 0.1\n",
    "\n",
    "# Get output:\n",
    "y = torch.sum(x*w + b)\n",
    "\n",
    "# ReLU (the rectified-linear activation function ):\n",
    "y = torch.relu(y)\n",
    "y"
   ]
  },
  {
   "cell_type": "markdown",
   "id": "4791b449",
   "metadata": {},
   "source": [
    "### 1.2 Перемещаем тензоры на GPU:"
   ]
  },
  {
   "cell_type": "code",
   "execution_count": 80,
   "id": "6023f288",
   "metadata": {},
   "outputs": [],
   "source": [
    "# Choose device (CUDA or CPU):\n",
    "device = torch.device('cuda' if torch.cuda.is_available() else 'cpu')\n",
    "\n",
    "# Input size:\n",
    "n = 10\n",
    "\n",
    "# Inputs:\n",
    "x = torch.rand((n), dtype=torch.float32)\n",
    "x = x.to(device=device)\n",
    "x = x * 2.0 - 1.0\n",
    "\n",
    "# Weights:\n",
    "w = torch.empty(x.shape, dtype=torch.float32)\n",
    "w = w.to(device=device)\n",
    "w = w * 2.0 - 1.0\n",
    "\n",
    "# Bais:\n",
    "b = torch.ones(x.shape, dtype=torch.float32)\n",
    "b = b.to(device=device)\n",
    "b *= 0.1\n",
    "\n",
    "# Get output:\n",
    "y = torch.sum(x*w + b)\n",
    "\n",
    "# Add nonlinearity (ReLU activation):\n",
    "y = torch.relu(y)\n",
    "\n",
    "# CPU -> GPU:\n",
    "y = y.cpu().numpy()"
   ]
  },
  {
   "cell_type": "markdown",
   "id": "2a5b4427",
   "metadata": {},
   "source": [
    "## 2. Создаем полносвязную нейронную сеть\n",
    "Реализуем простую полносвязную нейронную сеть:\n",
    "<img src=\"images/nn_picture.png\">"
   ]
  },
  {
   "cell_type": "code",
   "execution_count": 85,
   "id": "b28035be",
   "metadata": {},
   "outputs": [],
   "source": [
    "import torch.nn as nn               # imports base class for NN\n",
    "import torch.nn.functional as F     # imports activation functions\n",
    "\n",
    "class MyNet(nn.Module):\n",
    "    def __init__(self, in_size, out_size):\n",
    "        super(MyNet, self).__init__()\n",
    "        # Describe layers:\n",
    "        self.input = nn.Linear(in_size, 100)\n",
    "        self.fc1 = nn.Linear(100, 1000)\n",
    "        self.dropout1 = nn.Dropout(0.25)\n",
    "        self.fc2 = nn.Linear(1000, 100)\n",
    "        self.dropout2 = nn.Dropout(0.5)\n",
    "        self.output = nn.Linear(100, out_size)\n",
    "\n",
    "    # Forward propagation:\n",
    "    def forward(self, x):\n",
    "        '''\n",
    "        x reprenets our input data\n",
    "        '''\n",
    "        # Pass data through layers:\n",
    "        x = self.input(x)\n",
    "        x = F.relu(x)\n",
    "        \n",
    "        x = self.fc1(x)\n",
    "        x = F.relu(x)\n",
    "        x = self.dropout1(x)\n",
    "        \n",
    "        x = self.fc2(x)\n",
    "        x = F.relu(x)\n",
    "        x = self.dropout2(x)\n",
    "\n",
    "        x = self.output(x)\n",
    "        \n",
    "        # Apply softmax to x:\n",
    "        y = F.log_softmax(x, dim=1)\n",
    "        \n",
    "        return y"
   ]
  },
  {
   "cell_type": "markdown",
   "id": "66ef2a6c",
   "metadata": {},
   "source": [
    "### 2.1 Инициализируем нейронную сеть и пропускаем через нее батч рандомных данных"
   ]
  },
  {
   "cell_type": "code",
   "execution_count": 103,
   "id": "d3653057",
   "metadata": {},
   "outputs": [
    {
     "name": "stdout",
     "output_type": "stream",
     "text": [
      "tensor([6, 2, 2, 2, 6, 2, 6, 6, 2, 2, 6, 2, 6, 7, 1, 2, 6, 2, 6, 6, 6, 7, 2, 2,\n",
      "        6, 6, 2, 6, 7, 2, 6, 2, 7, 6, 2, 7, 7, 6, 7, 6, 6, 6, 2, 2, 1, 7, 7, 6,\n",
      "        2, 2, 7, 7, 6, 2, 6, 7, 6, 7, 7, 2, 7, 6, 6, 2])\n"
     ]
    }
   ],
   "source": [
    "# Init a model:\n",
    "my_nn = MyNet(5, 10)              # input size: 5, output size: 10\n",
    "\n",
    "# Input batch of data (random):\n",
    "batch_data = torch.rand((64, 5))  # batch size: 64\n",
    "\n",
    "# Pass data through the model:\n",
    "logits = my_nn(batch_data)\n",
    "\n",
    "# Pick best probability after softmax:\n",
    "preds = torch.argmax(logits, dim=1)\n",
    "\n",
    "print (preds)"
   ]
  },
  {
   "cell_type": "markdown",
   "id": "3e3e5e1d",
   "metadata": {},
   "source": [
    "### 2.2 Делаем то же что и в 2.1, но на GPU:"
   ]
  },
  {
   "cell_type": "code",
   "execution_count": 105,
   "id": "8d15ef2f",
   "metadata": {},
   "outputs": [
    {
     "name": "stdout",
     "output_type": "stream",
     "text": [
      "tensor([7, 5, 1, 7, 1, 7, 7, 7, 7, 1, 1, 7, 7, 5, 7, 7, 7, 5, 1, 5, 5, 7, 7, 7,\n",
      "        7, 5, 7, 3, 1, 1, 7, 5, 7, 5, 7, 7, 7, 5, 5, 7, 7, 5, 7, 5, 5, 5, 5, 7,\n",
      "        5, 1, 7, 7, 5, 7, 7, 7, 7, 7, 7, 7, 7, 1, 7, 5])\n"
     ]
    }
   ],
   "source": [
    "# Choose device (CUDA or CPU):\n",
    "device = torch.device('cuda' if torch.cuda.is_available() else 'cpu')\n",
    "\n",
    "# Init a model:\n",
    "my_nn = MyNet(5, 10)              # input size: 5, output size: 10\n",
    "my_nn.to(device)\n",
    "\n",
    "# Input batch of data (random):\n",
    "batch_data = torch.rand((64, 5))  # batch size: 64\n",
    "batch_data = batch_data.to(device)\n",
    "\n",
    "# Pass data through the model:\n",
    "logits = my_nn(batch_data)\n",
    "\n",
    "# Pick best probability after softmax:\n",
    "preds = torch.argmax(logits, dim=1)\n",
    "\n",
    "# CPU -> GPU:\n",
    "preds = preds.cpu()\n",
    "\n",
    "print (preds)"
   ]
  },
  {
   "cell_type": "markdown",
   "id": "0298f4b3",
   "metadata": {},
   "source": [
    "## 3. Создаем сверточную нейронную сеть\n",
    "Реализуем простую сверточную нейронную сеть:\n",
    "<img src=\"images/cnn.jpg\">"
   ]
  },
  {
   "cell_type": "code",
   "execution_count": 95,
   "id": "58c3321e",
   "metadata": {},
   "outputs": [],
   "source": [
    "import torch.nn as nn               # imports base class for NN\n",
    "import torch.nn.functional as F     # imports activation functions\n",
    "\n",
    "class CnnNet(nn.Module):\n",
    "    def __init__(self, out_size):\n",
    "        super(CnnNet, self).__init__()\n",
    "        # Describe layers:\n",
    "        self.conv1 = nn.Conv2d(1, 32, 3, 1)     # 1: in channels, 32: out channels, 3: kernel size, 1: stride\n",
    "        self.conv2 = nn.Conv2d(32, 64, 3, 1)\n",
    "        self.dropout1 = nn.Dropout2d(0.25)\n",
    "        self.dropout2 = nn.Dropout2d(0.5)\n",
    "        self.fc1 = nn.Linear(9216, 128)         # 9216: in channels, 128: out channels\n",
    "        self.fc2 = nn.Linear(128, out_size)\n",
    "\n",
    "    # Forward propagation:\n",
    "    def forward(self, x):\n",
    "        '''\n",
    "        x reprenets our input data\n",
    "        '''\n",
    "        # Pass data through conv's layers:\n",
    "        x = self.conv1(x)\n",
    "        x = F.relu(x)\n",
    "\n",
    "        x = self.conv2(x)\n",
    "        x = F.relu(x)\n",
    "\n",
    "        # Run max pooling over x:\n",
    "        x = F.max_pool2d(x, 2)\n",
    "        x = self.dropout1(x)\n",
    "        \n",
    "        # Flatten x with start_dim=1\n",
    "        x = torch.flatten(x, 1)\n",
    "        \n",
    "        # Pass data through FC's layers:\n",
    "        x = self.fc1(x)\n",
    "        x = F.relu(x)\n",
    "        x = self.dropout2(x)\n",
    "        x = self.fc2(x)\n",
    "\n",
    "        # Apply softmax to x:\n",
    "        output = F.log_softmax(x, dim=1)\n",
    "        \n",
    "        return output"
   ]
  },
  {
   "cell_type": "markdown",
   "id": "fd457c7b",
   "metadata": {},
   "source": [
    "### 3.1 Инициализируем  сеть и пропускаем через нее батч рандомных данных"
   ]
  },
  {
   "cell_type": "code",
   "execution_count": 96,
   "id": "67d99bc0",
   "metadata": {},
   "outputs": [
    {
     "name": "stdout",
     "output_type": "stream",
     "text": [
      "tensor([5, 3, 5, 7, 9, 9, 5, 5, 9, 7, 5, 5, 9, 9, 9, 5, 7, 5, 9, 5, 7, 6, 7, 7,\n",
      "        9, 9, 7, 9, 9, 7, 5, 9, 5, 9, 9, 9, 7, 5, 9, 7, 5, 9, 9, 7, 5, 5, 6, 6,\n",
      "        5, 9, 7, 9, 6, 6, 9, 5, 9, 9, 9, 7, 9, 9, 5, 9])\n"
     ]
    }
   ],
   "source": [
    "# Choose device (CUDA or CPU):\n",
    "device = torch.device('cuda' if torch.cuda.is_available() else 'cpu')\n",
    "\n",
    "# Init a model:\n",
    "my_cnn = CnnNet(10)              # output size: 10\n",
    "my_cnn.to(device)\n",
    "\n",
    "# Input batch of random 28x28 images:\n",
    "batch_data = torch.rand((64, 1, 28, 28))  # batch size: 64\n",
    "batch_data = batch_data.to(device)\n",
    "\n",
    "# Pass data through the model:\n",
    "logits = my_cnn(batch_data)\n",
    "\n",
    "# Pick best probability after softmax:\n",
    "preds = torch.argmax(logits, dim=1)\n",
    "\n",
    "# CPU -> GPU:\n",
    "preds = preds.cpu()\n",
    "\n",
    "print (preds)"
   ]
  },
  {
   "cell_type": "markdown",
   "id": "2e259df2",
   "metadata": {},
   "source": [
    "# Нейронная сеть создана, теперь нужно лишь ее обучить! "
   ]
  }
 ],
 "metadata": {
  "kernelspec": {
   "display_name": "Python 3",
   "language": "python",
   "name": "python3"
  },
  "language_info": {
   "codemirror_mode": {
    "name": "ipython",
    "version": 3
   },
   "file_extension": ".py",
   "mimetype": "text/x-python",
   "name": "python",
   "nbconvert_exporter": "python",
   "pygments_lexer": "ipython3",
   "version": "3.6.9"
  }
 },
 "nbformat": 4,
 "nbformat_minor": 5
}
